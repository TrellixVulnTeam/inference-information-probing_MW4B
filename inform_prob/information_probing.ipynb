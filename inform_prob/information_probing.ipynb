{
 "cells": [
  {
   "cell_type": "code",
   "execution_count": 2,
   "metadata": {},
   "outputs": [],
   "source": [
    "from math import log2\n",
    "\n",
    "def get_dataset_entropy(class_counter, n_total):\n",
    "  entropy = 0\n",
    "  for label in class_counter.keys():\n",
    "    prob = class_counter[label] / n_total\n",
    "    prob_entropy = prob * log2(prob)\n",
    "    #print(label)\n",
    "    #print(prob)\n",
    "    #print(prob_entropy)\n",
    "    entropy += -prob_entropy\n",
    "  return entropy\n",
    "\n",
    "def get_information_gain(loss_main, loss_control, entropy):\n",
    "  gain = loss_control - loss_main \n",
    "  gain_percent = gain / entropy\n",
    "  return gain, gain_percent"
   ]
  },
  {
   "cell_type": "code",
   "execution_count": 3,
   "metadata": {},
   "outputs": [
    {
     "name": "stdout",
     "output_type": "stream",
     "text": [
      "{'no_relation': 131006, 'concept_2_relation': 21449, 'relation_2_concpet': 21449, 'concept_2_modifier': 26856, 'modifier_2_concept': 26856, 'relation_2_relation': 28158, 'relation_2_modifier': 6170, 'modifier_2_relation': 6170}\n"
     ]
    }
   ],
   "source": [
    "import jiant.utils.python.io as py_io\n",
    "\n",
    "def count_example_per_class(data_pth):\n",
    "    class_counter = {}\n",
    "    examples = []\n",
    "    total_n_exmaples = 0\n",
    "    dataset = py_io.read_json(data_pth, mode=\"r\")\n",
    "    for key in dataset.keys():\n",
    "        for target in dataset[key]['targets']:\n",
    "            total_n_exmaples += 1\n",
    "            label = target['label']\n",
    "            if label in class_counter.keys():\n",
    "                class_counter[label] += 1\n",
    "            else:\n",
    "                class_counter[label] = 1\n",
    "    return class_counter, total_n_exmaples\n",
    "\n",
    "test_data_counter, test_n_total = count_example_per_class(\"data/edge_probe/relation_data_val.json\")\n",
    "print(test_data_counter)"
   ]
  },
  {
   "cell_type": "code",
   "execution_count": 4,
   "metadata": {},
   "outputs": [
    {
     "name": "stdout",
     "output_type": "stream",
     "text": [
      "Mutual Information Gain:  1.4242\n",
      "Mutual Infromation Gain Percentage:  0.6073943059287257\n"
     ]
    }
   ],
   "source": [
    "test_entropy = get_dataset_entropy(test_data_counter, test_n_total)\n",
    "info_gain, gain_percent = get_information_gain(0.1674, 1.5916, test_entropy)\n",
    "print(\"Mutual Information Gain: \", info_gain)\n",
    "print(\"Mutual Infromation Gain Percentage: \", gain_percent)"
   ]
  },
  {
   "cell_type": "code",
   "execution_count": 5,
   "metadata": {},
   "outputs": [
    {
     "name": "stdout",
     "output_type": "stream",
     "text": [
      "Mutual Information Gain:  1.7391\n",
      "Mutual Infromation Gain Percentage:  0.7416931873617799\n"
     ]
    }
   ],
   "source": [
    "test_entropy = get_dataset_entropy(test_data_counter, test_n_total)\n",
    "info_gain, gain_percent = get_information_gain(0.1674, 1.9065, test_entropy)\n",
    "print(\"Mutual Information Gain: \", info_gain)\n",
    "print(\"Mutual Infromation Gain Percentage: \", gain_percent)"
   ]
  },
  {
   "cell_type": "code",
   "execution_count": 8,
   "metadata": {},
   "outputs": [
    {
     "data": {
      "text/plain": [
       "0.4"
      ]
     },
     "execution_count": 8,
     "metadata": {},
     "output_type": "execute_result"
    }
   ],
   "source": [
    "import numpy as np\n",
    "from sklearn.metrics import accuracy_score\n",
    "\n",
    "x = np.array([[0,0,1], [1,0,0], [0,1,0], [0,1,0], [1,0,0]])\n",
    "y = np.array([[1,0,1], [1,1,0], [0,1,0], [0,0,0], [1,0,0]])\n",
    "\n",
    "accuracy_score(x, y)\n"
   ]
  },
  {
   "cell_type": "code",
   "execution_count": null,
   "metadata": {},
   "outputs": [],
   "source": []
  }
 ],
 "metadata": {
  "interpreter": {
   "hash": "183bbf6827d058c2a2fb0f4acdc0420849dda2b4380af0e437e38c64d798d8b7"
  },
  "kernelspec": {
   "display_name": "Python 3.8.5 64-bit ('base': conda)",
   "language": "python",
   "name": "python3"
  },
  "language_info": {
   "codemirror_mode": {
    "name": "ipython",
    "version": 3
   },
   "file_extension": ".py",
   "mimetype": "text/x-python",
   "name": "python",
   "nbconvert_exporter": "python",
   "pygments_lexer": "ipython3",
   "version": "3.8.5"
  },
  "orig_nbformat": 4
 },
 "nbformat": 4,
 "nbformat_minor": 2
}
