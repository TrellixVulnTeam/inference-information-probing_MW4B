{
 "cells": [
  {
   "cell_type": "code",
   "execution_count": 2,
   "metadata": {},
   "outputs": [],
   "source": [
    "import os\n",
    "\n",
    "import jiant.utils.python.io as py_io"
   ]
  },
  {
   "cell_type": "code",
   "execution_count": 10,
   "metadata": {},
   "outputs": [],
   "source": [
    "def write_data_to_task_dir(task_name, train_data, val_data):\n",
    "    os.makedirs(\"probing_tasks/configs/\", exist_ok=True)\n",
    "    os.makedirs(f\"probing_tasks/data/{task_name}\", exist_ok=True)\n",
    "    if len(train_data) > 0:\n",
    "        py_io.write_jsonl(\n",
    "            data=train_data,\n",
    "            path=f\"probing_tasks/data/{task_name}/train.jsonl\",\n",
    "        )\n",
    "    if len(val_data) > 0:\n",
    "        py_io.write_jsonl(\n",
    "            data=val_data,\n",
    "            path=f\"probing_tasks/data/{task_name}/val.jsonl\",\n",
    "        )\n",
    "    py_io.write_json({\n",
    "        \"task\": task_name,\n",
    "        \"paths\": {\n",
    "            \"train\": f\"../data/{task_name}/train.jsonl\",\n",
    "            \"val\": f\"../data/{task_name}/val.jsonl\",\n",
    "        },\n",
    "        \"name\": task_name\n",
    "    }, f\"probing_tasks/configs/{task_name}_config.json\")\n",
    "\n",
    "write_data_to_task_dir(\"relational_vertex\", [], [])"
   ]
  },
  {
   "cell_type": "code",
   "execution_count": null,
   "metadata": {},
   "outputs": [],
   "source": [
    "import jiant.proj.main.export_model as export_model\n",
    "\n",
    "def setup_model(model_name):\n",
    "    export_model.export_model(\n",
    "        hf_pretrained_model_name_or_path=model_name,\n",
    "        output_base_path=f\"./models/{model_name}\",\n",
    "    )\n",
    "\n",
    "setup_model(\"roberta-base\")\n"
   ]
  },
  {
   "cell_type": "code",
   "execution_count": null,
   "metadata": {},
   "outputs": [],
   "source": []
  }
 ],
 "metadata": {
  "interpreter": {
   "hash": "183bbf6827d058c2a2fb0f4acdc0420849dda2b4380af0e437e38c64d798d8b7"
  },
  "kernelspec": {
   "display_name": "Python 3.8.5 64-bit ('base': conda)",
   "language": "python",
   "name": "python3"
  },
  "language_info": {
   "codemirror_mode": {
    "name": "ipython",
    "version": 3
   },
   "file_extension": ".py",
   "mimetype": "text/x-python",
   "name": "python",
   "nbconvert_exporter": "python",
   "pygments_lexer": "ipython3",
   "version": "3.8.5"
  },
  "orig_nbformat": 4
 },
 "nbformat": 4,
 "nbformat_minor": 2
}
